{
 "cells": [
  {
   "cell_type": "code",
   "execution_count": 2,
   "metadata": {},
   "outputs": [],
   "source": [
    "import pandas as pd\n",
    "import numpy as np\n",
    "import matplotlib.pyplot as plt\n",
    "import seaborn as sns\n",
    "from ast import literal_eval\n",
    "from sklearn.feature_extraction.text import TfidfVectorizer\n",
    "from sklearn.feature_extraction.text import CountVectorizer\n",
    "from sklearn.metrics.pairwise import cosine_similarity"
   ]
  },
  {
   "cell_type": "code",
   "execution_count": 4,
   "metadata": {},
   "outputs": [],
   "source": [
    "rating_data = pd.read_csv('c:/Users/USER/Desktop/ssafy2_proj/한정섭/ratings.csv')\n",
    "movie_data = pd.read_csv('c:/Users/USER/Desktop/ssafy2_proj/한정섭/movies.csv')"
   ]
  },
  {
   "cell_type": "code",
   "execution_count": 5,
   "metadata": {},
   "outputs": [
    {
     "data": {
      "text/html": [
       "<div>\n",
       "<style scoped>\n",
       "    .dataframe tbody tr th:only-of-type {\n",
       "        vertical-align: middle;\n",
       "    }\n",
       "\n",
       "    .dataframe tbody tr th {\n",
       "        vertical-align: top;\n",
       "    }\n",
       "\n",
       "    .dataframe thead th {\n",
       "        text-align: right;\n",
       "    }\n",
       "</style>\n",
       "<table border=\"1\" class=\"dataframe\">\n",
       "  <thead>\n",
       "    <tr style=\"text-align: right;\">\n",
       "      <th></th>\n",
       "      <th>userId</th>\n",
       "      <th>movieId</th>\n",
       "      <th>rating</th>\n",
       "      <th>timestamp</th>\n",
       "    </tr>\n",
       "  </thead>\n",
       "  <tbody>\n",
       "    <tr>\n",
       "      <th>0</th>\n",
       "      <td>1</td>\n",
       "      <td>110</td>\n",
       "      <td>1.0</td>\n",
       "      <td>1425941529</td>\n",
       "    </tr>\n",
       "    <tr>\n",
       "      <th>1</th>\n",
       "      <td>1</td>\n",
       "      <td>147</td>\n",
       "      <td>4.5</td>\n",
       "      <td>1425942435</td>\n",
       "    </tr>\n",
       "  </tbody>\n",
       "</table>\n",
       "</div>"
      ],
      "text/plain": [
       "   userId  movieId  rating   timestamp\n",
       "0       1      110     1.0  1425941529\n",
       "1       1      147     4.5  1425942435"
      ]
     },
     "execution_count": 5,
     "metadata": {},
     "output_type": "execute_result"
    }
   ],
   "source": [
    "rating_data.head(2)"
   ]
  },
  {
   "cell_type": "code",
   "execution_count": 6,
   "metadata": {},
   "outputs": [
    {
     "data": {
      "text/html": [
       "<div>\n",
       "<style scoped>\n",
       "    .dataframe tbody tr th:only-of-type {\n",
       "        vertical-align: middle;\n",
       "    }\n",
       "\n",
       "    .dataframe tbody tr th {\n",
       "        vertical-align: top;\n",
       "    }\n",
       "\n",
       "    .dataframe thead th {\n",
       "        text-align: right;\n",
       "    }\n",
       "</style>\n",
       "<table border=\"1\" class=\"dataframe\">\n",
       "  <thead>\n",
       "    <tr style=\"text-align: right;\">\n",
       "      <th></th>\n",
       "      <th>movieId</th>\n",
       "      <th>title</th>\n",
       "      <th>genres</th>\n",
       "    </tr>\n",
       "  </thead>\n",
       "  <tbody>\n",
       "    <tr>\n",
       "      <th>0</th>\n",
       "      <td>1</td>\n",
       "      <td>Toy Story (1995)</td>\n",
       "      <td>Adventure|Animation|Children|Comedy|Fantasy</td>\n",
       "    </tr>\n",
       "    <tr>\n",
       "      <th>1</th>\n",
       "      <td>2</td>\n",
       "      <td>Jumanji (1995)</td>\n",
       "      <td>Adventure|Children|Fantasy</td>\n",
       "    </tr>\n",
       "  </tbody>\n",
       "</table>\n",
       "</div>"
      ],
      "text/plain": [
       "   movieId             title                                       genres\n",
       "0        1  Toy Story (1995)  Adventure|Animation|Children|Comedy|Fantasy\n",
       "1        2    Jumanji (1995)                   Adventure|Children|Fantasy"
      ]
     },
     "execution_count": 6,
     "metadata": {},
     "output_type": "execute_result"
    }
   ],
   "source": [
    "movie_data.head(2)"
   ]
  },
  {
   "cell_type": "code",
   "execution_count": 7,
   "metadata": {},
   "outputs": [
    {
     "data": {
      "text/html": [
       "<div>\n",
       "<style scoped>\n",
       "    .dataframe tbody tr th:only-of-type {\n",
       "        vertical-align: middle;\n",
       "    }\n",
       "\n",
       "    .dataframe tbody tr th {\n",
       "        vertical-align: top;\n",
       "    }\n",
       "\n",
       "    .dataframe thead th {\n",
       "        text-align: right;\n",
       "    }\n",
       "</style>\n",
       "<table border=\"1\" class=\"dataframe\">\n",
       "  <thead>\n",
       "    <tr style=\"text-align: right;\">\n",
       "      <th></th>\n",
       "      <th>userId</th>\n",
       "      <th>movieId</th>\n",
       "      <th>rating</th>\n",
       "    </tr>\n",
       "  </thead>\n",
       "  <tbody>\n",
       "    <tr>\n",
       "      <th>0</th>\n",
       "      <td>1</td>\n",
       "      <td>110</td>\n",
       "      <td>1.0</td>\n",
       "    </tr>\n",
       "    <tr>\n",
       "      <th>1</th>\n",
       "      <td>1</td>\n",
       "      <td>147</td>\n",
       "      <td>4.5</td>\n",
       "    </tr>\n",
       "  </tbody>\n",
       "</table>\n",
       "</div>"
      ],
      "text/plain": [
       "   userId  movieId  rating\n",
       "0       1      110     1.0\n",
       "1       1      147     4.5"
      ]
     },
     "execution_count": 7,
     "metadata": {},
     "output_type": "execute_result"
    }
   ],
   "source": [
    "rating_data.drop('timestamp', axis = 1, inplace=True)\n",
    "rating_data.head(2)"
   ]
  },
  {
   "cell_type": "code",
   "execution_count": 8,
   "metadata": {},
   "outputs": [],
   "source": [
    "user_movie_rating = pd.merge(rating_data, movie_data, on = 'movieId')"
   ]
  },
  {
   "cell_type": "code",
   "execution_count": 9,
   "metadata": {},
   "outputs": [
    {
     "data": {
      "text/html": [
       "<div>\n",
       "<style scoped>\n",
       "    .dataframe tbody tr th:only-of-type {\n",
       "        vertical-align: middle;\n",
       "    }\n",
       "\n",
       "    .dataframe tbody tr th {\n",
       "        vertical-align: top;\n",
       "    }\n",
       "\n",
       "    .dataframe thead th {\n",
       "        text-align: right;\n",
       "    }\n",
       "</style>\n",
       "<table border=\"1\" class=\"dataframe\">\n",
       "  <thead>\n",
       "    <tr style=\"text-align: right;\">\n",
       "      <th></th>\n",
       "      <th>userId</th>\n",
       "      <th>movieId</th>\n",
       "      <th>rating</th>\n",
       "      <th>title</th>\n",
       "      <th>genres</th>\n",
       "    </tr>\n",
       "  </thead>\n",
       "  <tbody>\n",
       "    <tr>\n",
       "      <th>0</th>\n",
       "      <td>1</td>\n",
       "      <td>110</td>\n",
       "      <td>1.0</td>\n",
       "      <td>Braveheart (1995)</td>\n",
       "      <td>Action|Drama|War</td>\n",
       "    </tr>\n",
       "    <tr>\n",
       "      <th>1</th>\n",
       "      <td>11</td>\n",
       "      <td>110</td>\n",
       "      <td>3.5</td>\n",
       "      <td>Braveheart (1995)</td>\n",
       "      <td>Action|Drama|War</td>\n",
       "    </tr>\n",
       "  </tbody>\n",
       "</table>\n",
       "</div>"
      ],
      "text/plain": [
       "   userId  movieId  rating              title            genres\n",
       "0       1      110     1.0  Braveheart (1995)  Action|Drama|War\n",
       "1      11      110     3.5  Braveheart (1995)  Action|Drama|War"
      ]
     },
     "execution_count": 9,
     "metadata": {},
     "output_type": "execute_result"
    }
   ],
   "source": [
    "user_movie_rating.head(2)"
   ]
  },
  {
   "cell_type": "code",
   "execution_count": 10,
   "metadata": {},
   "outputs": [
    {
     "name": "stderr",
     "output_type": "stream",
     "text": [
      "C:\\Users\\USER\\AppData\\Local\\Programs\\Python\\Python39\\lib\\site-packages\\pandas\\core\\reshape\\reshape.py:130: RuntimeWarning: overflow encountered in long_scalars\n",
      "  num_cells = num_rows * num_columns\n"
     ]
    },
    {
     "ename": "ValueError",
     "evalue": "negative dimensions are not allowed",
     "output_type": "error",
     "traceback": [
      "\u001b[1;31m---------------------------------------------------------------------------\u001b[0m",
      "\u001b[1;31mValueError\u001b[0m                                Traceback (most recent call last)",
      "\u001b[1;32mc:\\Users\\USER\\Desktop\\ssafy2_proj\\한정섭\\0314_movieone_item.ipynb Cell 8'\u001b[0m in \u001b[0;36m<cell line: 1>\u001b[1;34m()\u001b[0m\n\u001b[1;32m----> <a href='vscode-notebook-cell:/c%3A/Users/USER/Desktop/ssafy2_proj/%ED%95%9C%EC%A0%95%EC%84%AD/0314_movieone_item.ipynb#ch0000008?line=0'>1</a>\u001b[0m movie_user_rating \u001b[39m=\u001b[39m user_movie_rating\u001b[39m.\u001b[39;49mpivot_table(\u001b[39m'\u001b[39;49m\u001b[39mrating\u001b[39;49m\u001b[39m'\u001b[39;49m, index \u001b[39m=\u001b[39;49m \u001b[39m'\u001b[39;49m\u001b[39mtitle\u001b[39;49m\u001b[39m'\u001b[39;49m, columns\u001b[39m=\u001b[39;49m\u001b[39m'\u001b[39;49m\u001b[39muserId\u001b[39;49m\u001b[39m'\u001b[39;49m)\n\u001b[0;32m      <a href='vscode-notebook-cell:/c%3A/Users/USER/Desktop/ssafy2_proj/%ED%95%9C%EC%A0%95%EC%84%AD/0314_movieone_item.ipynb#ch0000008?line=1'>2</a>\u001b[0m user_movie_rating \u001b[39m=\u001b[39m user_movie_rating\u001b[39m.\u001b[39mpivot_table(\u001b[39m'\u001b[39m\u001b[39mrating\u001b[39m\u001b[39m'\u001b[39m, index \u001b[39m=\u001b[39m \u001b[39m'\u001b[39m\u001b[39muserId\u001b[39m\u001b[39m'\u001b[39m, columns\u001b[39m=\u001b[39m\u001b[39m'\u001b[39m\u001b[39mtitle\u001b[39m\u001b[39m'\u001b[39m)\n",
      "File \u001b[1;32m~\\AppData\\Local\\Programs\\Python\\Python39\\lib\\site-packages\\pandas\\core\\frame.py:8032\u001b[0m, in \u001b[0;36mDataFrame.pivot_table\u001b[1;34m(self, values, index, columns, aggfunc, fill_value, margins, dropna, margins_name, observed, sort)\u001b[0m\n\u001b[0;32m   <a href='file:///c%3A/Users/USER/AppData/Local/Programs/Python/Python39/lib/site-packages/pandas/core/frame.py?line=8014'>8015</a>\u001b[0m \u001b[39m@Substitution\u001b[39m(\u001b[39m\"\u001b[39m\u001b[39m\"\u001b[39m)\n\u001b[0;32m   <a href='file:///c%3A/Users/USER/AppData/Local/Programs/Python/Python39/lib/site-packages/pandas/core/frame.py?line=8015'>8016</a>\u001b[0m \u001b[39m@Appender\u001b[39m(_shared_docs[\u001b[39m\"\u001b[39m\u001b[39mpivot_table\u001b[39m\u001b[39m\"\u001b[39m])\n\u001b[0;32m   <a href='file:///c%3A/Users/USER/AppData/Local/Programs/Python/Python39/lib/site-packages/pandas/core/frame.py?line=8016'>8017</a>\u001b[0m \u001b[39mdef\u001b[39;00m \u001b[39mpivot_table\u001b[39m(\n\u001b[1;32m   (...)\u001b[0m\n\u001b[0;32m   <a href='file:///c%3A/Users/USER/AppData/Local/Programs/Python/Python39/lib/site-packages/pandas/core/frame.py?line=8027'>8028</a>\u001b[0m     sort\u001b[39m=\u001b[39m\u001b[39mTrue\u001b[39;00m,\n\u001b[0;32m   <a href='file:///c%3A/Users/USER/AppData/Local/Programs/Python/Python39/lib/site-packages/pandas/core/frame.py?line=8028'>8029</a>\u001b[0m ) \u001b[39m-\u001b[39m\u001b[39m>\u001b[39m DataFrame:\n\u001b[0;32m   <a href='file:///c%3A/Users/USER/AppData/Local/Programs/Python/Python39/lib/site-packages/pandas/core/frame.py?line=8029'>8030</a>\u001b[0m     \u001b[39mfrom\u001b[39;00m \u001b[39mpandas\u001b[39;00m\u001b[39m.\u001b[39;00m\u001b[39mcore\u001b[39;00m\u001b[39m.\u001b[39;00m\u001b[39mreshape\u001b[39;00m\u001b[39m.\u001b[39;00m\u001b[39mpivot\u001b[39;00m \u001b[39mimport\u001b[39;00m pivot_table\n\u001b[1;32m-> <a href='file:///c%3A/Users/USER/AppData/Local/Programs/Python/Python39/lib/site-packages/pandas/core/frame.py?line=8031'>8032</a>\u001b[0m     \u001b[39mreturn\u001b[39;00m pivot_table(\n\u001b[0;32m   <a href='file:///c%3A/Users/USER/AppData/Local/Programs/Python/Python39/lib/site-packages/pandas/core/frame.py?line=8032'>8033</a>\u001b[0m         \u001b[39mself\u001b[39;49m,\n\u001b[0;32m   <a href='file:///c%3A/Users/USER/AppData/Local/Programs/Python/Python39/lib/site-packages/pandas/core/frame.py?line=8033'>8034</a>\u001b[0m         values\u001b[39m=\u001b[39;49mvalues,\n\u001b[0;32m   <a href='file:///c%3A/Users/USER/AppData/Local/Programs/Python/Python39/lib/site-packages/pandas/core/frame.py?line=8034'>8035</a>\u001b[0m         index\u001b[39m=\u001b[39;49mindex,\n\u001b[0;32m   <a href='file:///c%3A/Users/USER/AppData/Local/Programs/Python/Python39/lib/site-packages/pandas/core/frame.py?line=8035'>8036</a>\u001b[0m         columns\u001b[39m=\u001b[39;49mcolumns,\n\u001b[0;32m   <a href='file:///c%3A/Users/USER/AppData/Local/Programs/Python/Python39/lib/site-packages/pandas/core/frame.py?line=8036'>8037</a>\u001b[0m         aggfunc\u001b[39m=\u001b[39;49maggfunc,\n\u001b[0;32m   <a href='file:///c%3A/Users/USER/AppData/Local/Programs/Python/Python39/lib/site-packages/pandas/core/frame.py?line=8037'>8038</a>\u001b[0m         fill_value\u001b[39m=\u001b[39;49mfill_value,\n\u001b[0;32m   <a href='file:///c%3A/Users/USER/AppData/Local/Programs/Python/Python39/lib/site-packages/pandas/core/frame.py?line=8038'>8039</a>\u001b[0m         margins\u001b[39m=\u001b[39;49mmargins,\n\u001b[0;32m   <a href='file:///c%3A/Users/USER/AppData/Local/Programs/Python/Python39/lib/site-packages/pandas/core/frame.py?line=8039'>8040</a>\u001b[0m         dropna\u001b[39m=\u001b[39;49mdropna,\n\u001b[0;32m   <a href='file:///c%3A/Users/USER/AppData/Local/Programs/Python/Python39/lib/site-packages/pandas/core/frame.py?line=8040'>8041</a>\u001b[0m         margins_name\u001b[39m=\u001b[39;49mmargins_name,\n\u001b[0;32m   <a href='file:///c%3A/Users/USER/AppData/Local/Programs/Python/Python39/lib/site-packages/pandas/core/frame.py?line=8041'>8042</a>\u001b[0m         observed\u001b[39m=\u001b[39;49mobserved,\n\u001b[0;32m   <a href='file:///c%3A/Users/USER/AppData/Local/Programs/Python/Python39/lib/site-packages/pandas/core/frame.py?line=8042'>8043</a>\u001b[0m         sort\u001b[39m=\u001b[39;49msort,\n\u001b[0;32m   <a href='file:///c%3A/Users/USER/AppData/Local/Programs/Python/Python39/lib/site-packages/pandas/core/frame.py?line=8043'>8044</a>\u001b[0m     )\n",
      "File \u001b[1;32m~\\AppData\\Local\\Programs\\Python\\Python39\\lib\\site-packages\\pandas\\core\\reshape\\pivot.py:95\u001b[0m, in \u001b[0;36mpivot_table\u001b[1;34m(data, values, index, columns, aggfunc, fill_value, margins, dropna, margins_name, observed, sort)\u001b[0m\n\u001b[0;32m     <a href='file:///c%3A/Users/USER/AppData/Local/Programs/Python/Python39/lib/site-packages/pandas/core/reshape/pivot.py?line=91'>92</a>\u001b[0m     table \u001b[39m=\u001b[39m concat(pieces, keys\u001b[39m=\u001b[39mkeys, axis\u001b[39m=\u001b[39m\u001b[39m1\u001b[39m)\n\u001b[0;32m     <a href='file:///c%3A/Users/USER/AppData/Local/Programs/Python/Python39/lib/site-packages/pandas/core/reshape/pivot.py?line=92'>93</a>\u001b[0m     \u001b[39mreturn\u001b[39;00m table\u001b[39m.\u001b[39m__finalize__(data, method\u001b[39m=\u001b[39m\u001b[39m\"\u001b[39m\u001b[39mpivot_table\u001b[39m\u001b[39m\"\u001b[39m)\n\u001b[1;32m---> <a href='file:///c%3A/Users/USER/AppData/Local/Programs/Python/Python39/lib/site-packages/pandas/core/reshape/pivot.py?line=94'>95</a>\u001b[0m table \u001b[39m=\u001b[39m __internal_pivot_table(\n\u001b[0;32m     <a href='file:///c%3A/Users/USER/AppData/Local/Programs/Python/Python39/lib/site-packages/pandas/core/reshape/pivot.py?line=95'>96</a>\u001b[0m     data,\n\u001b[0;32m     <a href='file:///c%3A/Users/USER/AppData/Local/Programs/Python/Python39/lib/site-packages/pandas/core/reshape/pivot.py?line=96'>97</a>\u001b[0m     values,\n\u001b[0;32m     <a href='file:///c%3A/Users/USER/AppData/Local/Programs/Python/Python39/lib/site-packages/pandas/core/reshape/pivot.py?line=97'>98</a>\u001b[0m     index,\n\u001b[0;32m     <a href='file:///c%3A/Users/USER/AppData/Local/Programs/Python/Python39/lib/site-packages/pandas/core/reshape/pivot.py?line=98'>99</a>\u001b[0m     columns,\n\u001b[0;32m    <a href='file:///c%3A/Users/USER/AppData/Local/Programs/Python/Python39/lib/site-packages/pandas/core/reshape/pivot.py?line=99'>100</a>\u001b[0m     aggfunc,\n\u001b[0;32m    <a href='file:///c%3A/Users/USER/AppData/Local/Programs/Python/Python39/lib/site-packages/pandas/core/reshape/pivot.py?line=100'>101</a>\u001b[0m     fill_value,\n\u001b[0;32m    <a href='file:///c%3A/Users/USER/AppData/Local/Programs/Python/Python39/lib/site-packages/pandas/core/reshape/pivot.py?line=101'>102</a>\u001b[0m     margins,\n\u001b[0;32m    <a href='file:///c%3A/Users/USER/AppData/Local/Programs/Python/Python39/lib/site-packages/pandas/core/reshape/pivot.py?line=102'>103</a>\u001b[0m     dropna,\n\u001b[0;32m    <a href='file:///c%3A/Users/USER/AppData/Local/Programs/Python/Python39/lib/site-packages/pandas/core/reshape/pivot.py?line=103'>104</a>\u001b[0m     margins_name,\n\u001b[0;32m    <a href='file:///c%3A/Users/USER/AppData/Local/Programs/Python/Python39/lib/site-packages/pandas/core/reshape/pivot.py?line=104'>105</a>\u001b[0m     observed,\n\u001b[0;32m    <a href='file:///c%3A/Users/USER/AppData/Local/Programs/Python/Python39/lib/site-packages/pandas/core/reshape/pivot.py?line=105'>106</a>\u001b[0m     sort,\n\u001b[0;32m    <a href='file:///c%3A/Users/USER/AppData/Local/Programs/Python/Python39/lib/site-packages/pandas/core/reshape/pivot.py?line=106'>107</a>\u001b[0m )\n\u001b[0;32m    <a href='file:///c%3A/Users/USER/AppData/Local/Programs/Python/Python39/lib/site-packages/pandas/core/reshape/pivot.py?line=107'>108</a>\u001b[0m \u001b[39mreturn\u001b[39;00m table\u001b[39m.\u001b[39m__finalize__(data, method\u001b[39m=\u001b[39m\u001b[39m\"\u001b[39m\u001b[39mpivot_table\u001b[39m\u001b[39m\"\u001b[39m)\n",
      "File \u001b[1;32m~\\AppData\\Local\\Programs\\Python\\Python39\\lib\\site-packages\\pandas\\core\\reshape\\pivot.py:204\u001b[0m, in \u001b[0;36m__internal_pivot_table\u001b[1;34m(data, values, index, columns, aggfunc, fill_value, margins, dropna, margins_name, observed, sort)\u001b[0m\n\u001b[0;32m    <a href='file:///c%3A/Users/USER/AppData/Local/Programs/Python/Python39/lib/site-packages/pandas/core/reshape/pivot.py?line=201'>202</a>\u001b[0m         \u001b[39melse\u001b[39;00m:\n\u001b[0;32m    <a href='file:///c%3A/Users/USER/AppData/Local/Programs/Python/Python39/lib/site-packages/pandas/core/reshape/pivot.py?line=202'>203</a>\u001b[0m             to_unstack\u001b[39m.\u001b[39mappend(name)\n\u001b[1;32m--> <a href='file:///c%3A/Users/USER/AppData/Local/Programs/Python/Python39/lib/site-packages/pandas/core/reshape/pivot.py?line=203'>204</a>\u001b[0m     table \u001b[39m=\u001b[39m agged\u001b[39m.\u001b[39;49munstack(to_unstack)\n\u001b[0;32m    <a href='file:///c%3A/Users/USER/AppData/Local/Programs/Python/Python39/lib/site-packages/pandas/core/reshape/pivot.py?line=205'>206</a>\u001b[0m \u001b[39mif\u001b[39;00m \u001b[39mnot\u001b[39;00m dropna:\n\u001b[0;32m    <a href='file:///c%3A/Users/USER/AppData/Local/Programs/Python/Python39/lib/site-packages/pandas/core/reshape/pivot.py?line=206'>207</a>\u001b[0m     \u001b[39mif\u001b[39;00m \u001b[39misinstance\u001b[39m(table\u001b[39m.\u001b[39mindex, MultiIndex):\n",
      "File \u001b[1;32m~\\AppData\\Local\\Programs\\Python\\Python39\\lib\\site-packages\\pandas\\core\\frame.py:8413\u001b[0m, in \u001b[0;36mDataFrame.unstack\u001b[1;34m(self, level, fill_value)\u001b[0m\n\u001b[0;32m   <a href='file:///c%3A/Users/USER/AppData/Local/Programs/Python/Python39/lib/site-packages/pandas/core/frame.py?line=8350'>8351</a>\u001b[0m \u001b[39m\"\"\"\u001b[39;00m\n\u001b[0;32m   <a href='file:///c%3A/Users/USER/AppData/Local/Programs/Python/Python39/lib/site-packages/pandas/core/frame.py?line=8351'>8352</a>\u001b[0m \u001b[39mPivot a level of the (necessarily hierarchical) index labels.\u001b[39;00m\n\u001b[0;32m   <a href='file:///c%3A/Users/USER/AppData/Local/Programs/Python/Python39/lib/site-packages/pandas/core/frame.py?line=8352'>8353</a>\u001b[0m \n\u001b[1;32m   (...)\u001b[0m\n\u001b[0;32m   <a href='file:///c%3A/Users/USER/AppData/Local/Programs/Python/Python39/lib/site-packages/pandas/core/frame.py?line=8408'>8409</a>\u001b[0m \u001b[39mdtype: float64\u001b[39;00m\n\u001b[0;32m   <a href='file:///c%3A/Users/USER/AppData/Local/Programs/Python/Python39/lib/site-packages/pandas/core/frame.py?line=8409'>8410</a>\u001b[0m \u001b[39m\"\"\"\u001b[39;00m\n\u001b[0;32m   <a href='file:///c%3A/Users/USER/AppData/Local/Programs/Python/Python39/lib/site-packages/pandas/core/frame.py?line=8410'>8411</a>\u001b[0m \u001b[39mfrom\u001b[39;00m \u001b[39mpandas\u001b[39;00m\u001b[39m.\u001b[39;00m\u001b[39mcore\u001b[39;00m\u001b[39m.\u001b[39;00m\u001b[39mreshape\u001b[39;00m\u001b[39m.\u001b[39;00m\u001b[39mreshape\u001b[39;00m \u001b[39mimport\u001b[39;00m unstack\n\u001b[1;32m-> <a href='file:///c%3A/Users/USER/AppData/Local/Programs/Python/Python39/lib/site-packages/pandas/core/frame.py?line=8412'>8413</a>\u001b[0m result \u001b[39m=\u001b[39m unstack(\u001b[39mself\u001b[39;49m, level, fill_value)\n\u001b[0;32m   <a href='file:///c%3A/Users/USER/AppData/Local/Programs/Python/Python39/lib/site-packages/pandas/core/frame.py?line=8414'>8415</a>\u001b[0m \u001b[39mreturn\u001b[39;00m result\u001b[39m.\u001b[39m__finalize__(\u001b[39mself\u001b[39m, method\u001b[39m=\u001b[39m\u001b[39m\"\u001b[39m\u001b[39munstack\u001b[39m\u001b[39m\"\u001b[39m)\n",
      "File \u001b[1;32m~\\AppData\\Local\\Programs\\Python\\Python39\\lib\\site-packages\\pandas\\core\\reshape\\reshape.py:478\u001b[0m, in \u001b[0;36munstack\u001b[1;34m(obj, level, fill_value)\u001b[0m\n\u001b[0;32m    <a href='file:///c%3A/Users/USER/AppData/Local/Programs/Python/Python39/lib/site-packages/pandas/core/reshape/reshape.py?line=475'>476</a>\u001b[0m \u001b[39mif\u001b[39;00m \u001b[39misinstance\u001b[39m(obj, DataFrame):\n\u001b[0;32m    <a href='file:///c%3A/Users/USER/AppData/Local/Programs/Python/Python39/lib/site-packages/pandas/core/reshape/reshape.py?line=476'>477</a>\u001b[0m     \u001b[39mif\u001b[39;00m \u001b[39misinstance\u001b[39m(obj\u001b[39m.\u001b[39mindex, MultiIndex):\n\u001b[1;32m--> <a href='file:///c%3A/Users/USER/AppData/Local/Programs/Python/Python39/lib/site-packages/pandas/core/reshape/reshape.py?line=477'>478</a>\u001b[0m         \u001b[39mreturn\u001b[39;00m _unstack_frame(obj, level, fill_value\u001b[39m=\u001b[39;49mfill_value)\n\u001b[0;32m    <a href='file:///c%3A/Users/USER/AppData/Local/Programs/Python/Python39/lib/site-packages/pandas/core/reshape/reshape.py?line=478'>479</a>\u001b[0m     \u001b[39melse\u001b[39;00m:\n\u001b[0;32m    <a href='file:///c%3A/Users/USER/AppData/Local/Programs/Python/Python39/lib/site-packages/pandas/core/reshape/reshape.py?line=479'>480</a>\u001b[0m         \u001b[39mreturn\u001b[39;00m obj\u001b[39m.\u001b[39mT\u001b[39m.\u001b[39mstack(dropna\u001b[39m=\u001b[39m\u001b[39mFalse\u001b[39;00m)\n",
      "File \u001b[1;32m~\\AppData\\Local\\Programs\\Python\\Python39\\lib\\site-packages\\pandas\\core\\reshape\\reshape.py:505\u001b[0m, in \u001b[0;36m_unstack_frame\u001b[1;34m(obj, level, fill_value)\u001b[0m\n\u001b[0;32m    <a href='file:///c%3A/Users/USER/AppData/Local/Programs/Python/Python39/lib/site-packages/pandas/core/reshape/reshape.py?line=502'>503</a>\u001b[0m     \u001b[39mreturn\u001b[39;00m obj\u001b[39m.\u001b[39m_constructor(mgr)\n\u001b[0;32m    <a href='file:///c%3A/Users/USER/AppData/Local/Programs/Python/Python39/lib/site-packages/pandas/core/reshape/reshape.py?line=503'>504</a>\u001b[0m \u001b[39melse\u001b[39;00m:\n\u001b[1;32m--> <a href='file:///c%3A/Users/USER/AppData/Local/Programs/Python/Python39/lib/site-packages/pandas/core/reshape/reshape.py?line=504'>505</a>\u001b[0m     unstacker \u001b[39m=\u001b[39m _Unstacker(obj\u001b[39m.\u001b[39;49mindex, level\u001b[39m=\u001b[39;49mlevel, constructor\u001b[39m=\u001b[39;49mobj\u001b[39m.\u001b[39;49m_constructor)\n\u001b[0;32m    <a href='file:///c%3A/Users/USER/AppData/Local/Programs/Python/Python39/lib/site-packages/pandas/core/reshape/reshape.py?line=505'>506</a>\u001b[0m     \u001b[39mreturn\u001b[39;00m unstacker\u001b[39m.\u001b[39mget_result(\n\u001b[0;32m    <a href='file:///c%3A/Users/USER/AppData/Local/Programs/Python/Python39/lib/site-packages/pandas/core/reshape/reshape.py?line=506'>507</a>\u001b[0m         obj\u001b[39m.\u001b[39m_values, value_columns\u001b[39m=\u001b[39mobj\u001b[39m.\u001b[39mcolumns, fill_value\u001b[39m=\u001b[39mfill_value\n\u001b[0;32m    <a href='file:///c%3A/Users/USER/AppData/Local/Programs/Python/Python39/lib/site-packages/pandas/core/reshape/reshape.py?line=507'>508</a>\u001b[0m     )\n",
      "File \u001b[1;32m~\\AppData\\Local\\Programs\\Python\\Python39\\lib\\site-packages\\pandas\\core\\reshape\\reshape.py:140\u001b[0m, in \u001b[0;36m_Unstacker.__init__\u001b[1;34m(self, index, level, constructor)\u001b[0m\n\u001b[0;32m    <a href='file:///c%3A/Users/USER/AppData/Local/Programs/Python/Python39/lib/site-packages/pandas/core/reshape/reshape.py?line=132'>133</a>\u001b[0m \u001b[39mif\u001b[39;00m num_cells \u001b[39m>\u001b[39m np\u001b[39m.\u001b[39miinfo(np\u001b[39m.\u001b[39mint32)\u001b[39m.\u001b[39mmax:\n\u001b[0;32m    <a href='file:///c%3A/Users/USER/AppData/Local/Programs/Python/Python39/lib/site-packages/pandas/core/reshape/reshape.py?line=133'>134</a>\u001b[0m     warnings\u001b[39m.\u001b[39mwarn(\n\u001b[0;32m    <a href='file:///c%3A/Users/USER/AppData/Local/Programs/Python/Python39/lib/site-packages/pandas/core/reshape/reshape.py?line=134'>135</a>\u001b[0m         \u001b[39mf\u001b[39m\u001b[39m\"\u001b[39m\u001b[39mThe following operation may generate \u001b[39m\u001b[39m{\u001b[39;00mnum_cells\u001b[39m}\u001b[39;00m\u001b[39m cells \u001b[39m\u001b[39m\"\u001b[39m\n\u001b[0;32m    <a href='file:///c%3A/Users/USER/AppData/Local/Programs/Python/Python39/lib/site-packages/pandas/core/reshape/reshape.py?line=135'>136</a>\u001b[0m         \u001b[39mf\u001b[39m\u001b[39m\"\u001b[39m\u001b[39min the resulting pandas object.\u001b[39m\u001b[39m\"\u001b[39m,\n\u001b[0;32m    <a href='file:///c%3A/Users/USER/AppData/Local/Programs/Python/Python39/lib/site-packages/pandas/core/reshape/reshape.py?line=136'>137</a>\u001b[0m         PerformanceWarning,\n\u001b[0;32m    <a href='file:///c%3A/Users/USER/AppData/Local/Programs/Python/Python39/lib/site-packages/pandas/core/reshape/reshape.py?line=137'>138</a>\u001b[0m     )\n\u001b[1;32m--> <a href='file:///c%3A/Users/USER/AppData/Local/Programs/Python/Python39/lib/site-packages/pandas/core/reshape/reshape.py?line=139'>140</a>\u001b[0m \u001b[39mself\u001b[39;49m\u001b[39m.\u001b[39;49m_make_selectors()\n",
      "File \u001b[1;32m~\\AppData\\Local\\Programs\\Python\\Python39\\lib\\site-packages\\pandas\\core\\reshape\\reshape.py:188\u001b[0m, in \u001b[0;36m_Unstacker._make_selectors\u001b[1;34m(self)\u001b[0m\n\u001b[0;32m    <a href='file:///c%3A/Users/USER/AppData/Local/Programs/Python/Python39/lib/site-packages/pandas/core/reshape/reshape.py?line=184'>185</a>\u001b[0m \u001b[39mself\u001b[39m\u001b[39m.\u001b[39mfull_shape \u001b[39m=\u001b[39m ngroups, stride\n\u001b[0;32m    <a href='file:///c%3A/Users/USER/AppData/Local/Programs/Python/Python39/lib/site-packages/pandas/core/reshape/reshape.py?line=186'>187</a>\u001b[0m selector \u001b[39m=\u001b[39m \u001b[39mself\u001b[39m\u001b[39m.\u001b[39msorted_labels[\u001b[39m-\u001b[39m\u001b[39m1\u001b[39m] \u001b[39m+\u001b[39m stride \u001b[39m*\u001b[39m comp_index \u001b[39m+\u001b[39m \u001b[39mself\u001b[39m\u001b[39m.\u001b[39mlift\n\u001b[1;32m--> <a href='file:///c%3A/Users/USER/AppData/Local/Programs/Python/Python39/lib/site-packages/pandas/core/reshape/reshape.py?line=187'>188</a>\u001b[0m mask \u001b[39m=\u001b[39m np\u001b[39m.\u001b[39;49mzeros(np\u001b[39m.\u001b[39;49mprod(\u001b[39mself\u001b[39;49m\u001b[39m.\u001b[39;49mfull_shape), dtype\u001b[39m=\u001b[39;49m\u001b[39mbool\u001b[39;49m)\n\u001b[0;32m    <a href='file:///c%3A/Users/USER/AppData/Local/Programs/Python/Python39/lib/site-packages/pandas/core/reshape/reshape.py?line=188'>189</a>\u001b[0m mask\u001b[39m.\u001b[39mput(selector, \u001b[39mTrue\u001b[39;00m)\n\u001b[0;32m    <a href='file:///c%3A/Users/USER/AppData/Local/Programs/Python/Python39/lib/site-packages/pandas/core/reshape/reshape.py?line=190'>191</a>\u001b[0m \u001b[39mif\u001b[39;00m mask\u001b[39m.\u001b[39msum() \u001b[39m<\u001b[39m \u001b[39mlen\u001b[39m(\u001b[39mself\u001b[39m\u001b[39m.\u001b[39mindex):\n",
      "\u001b[1;31mValueError\u001b[0m: negative dimensions are not allowed"
     ]
    }
   ],
   "source": [
    "movie_user_rating = user_movie_rating.pivot_table('rating', index = 'title', columns='userId')\n",
    "user_movie_rating = user_movie_rating.pivot_table('rating', index = 'userId', columns='title')"
   ]
  },
  {
   "cell_type": "code",
   "execution_count": 11,
   "metadata": {},
   "outputs": [
    {
     "data": {
      "text/html": [
       "<div>\n",
       "<style scoped>\n",
       "    .dataframe tbody tr th:only-of-type {\n",
       "        vertical-align: middle;\n",
       "    }\n",
       "\n",
       "    .dataframe tbody tr th {\n",
       "        vertical-align: top;\n",
       "    }\n",
       "\n",
       "    .dataframe thead th {\n",
       "        text-align: right;\n",
       "    }\n",
       "</style>\n",
       "<table border=\"1\" class=\"dataframe\">\n",
       "  <thead>\n",
       "    <tr style=\"text-align: right;\">\n",
       "      <th></th>\n",
       "      <th>userId</th>\n",
       "      <th>movieId</th>\n",
       "      <th>rating</th>\n",
       "      <th>title</th>\n",
       "      <th>genres</th>\n",
       "    </tr>\n",
       "  </thead>\n",
       "  <tbody>\n",
       "    <tr>\n",
       "      <th>0</th>\n",
       "      <td>1</td>\n",
       "      <td>110</td>\n",
       "      <td>1.0</td>\n",
       "      <td>Braveheart (1995)</td>\n",
       "      <td>Action|Drama|War</td>\n",
       "    </tr>\n",
       "    <tr>\n",
       "      <th>1</th>\n",
       "      <td>11</td>\n",
       "      <td>110</td>\n",
       "      <td>3.5</td>\n",
       "      <td>Braveheart (1995)</td>\n",
       "      <td>Action|Drama|War</td>\n",
       "    </tr>\n",
       "    <tr>\n",
       "      <th>2</th>\n",
       "      <td>22</td>\n",
       "      <td>110</td>\n",
       "      <td>5.0</td>\n",
       "      <td>Braveheart (1995)</td>\n",
       "      <td>Action|Drama|War</td>\n",
       "    </tr>\n",
       "    <tr>\n",
       "      <th>3</th>\n",
       "      <td>24</td>\n",
       "      <td>110</td>\n",
       "      <td>5.0</td>\n",
       "      <td>Braveheart (1995)</td>\n",
       "      <td>Action|Drama|War</td>\n",
       "    </tr>\n",
       "    <tr>\n",
       "      <th>4</th>\n",
       "      <td>29</td>\n",
       "      <td>110</td>\n",
       "      <td>3.0</td>\n",
       "      <td>Braveheart (1995)</td>\n",
       "      <td>Action|Drama|War</td>\n",
       "    </tr>\n",
       "  </tbody>\n",
       "</table>\n",
       "</div>"
      ],
      "text/plain": [
       "   userId  movieId  rating              title            genres\n",
       "0       1      110     1.0  Braveheart (1995)  Action|Drama|War\n",
       "1      11      110     3.5  Braveheart (1995)  Action|Drama|War\n",
       "2      22      110     5.0  Braveheart (1995)  Action|Drama|War\n",
       "3      24      110     5.0  Braveheart (1995)  Action|Drama|War\n",
       "4      29      110     3.0  Braveheart (1995)  Action|Drama|War"
      ]
     },
     "execution_count": 11,
     "metadata": {},
     "output_type": "execute_result"
    }
   ],
   "source": [
    "user_movie_rating.head(5)"
   ]
  },
  {
   "cell_type": "code",
   "execution_count": null,
   "metadata": {},
   "outputs": [],
   "source": []
  },
  {
   "cell_type": "code",
   "execution_count": null,
   "metadata": {},
   "outputs": [],
   "source": []
  },
  {
   "cell_type": "code",
   "execution_count": null,
   "metadata": {},
   "outputs": [],
   "source": []
  }
 ],
 "metadata": {
  "interpreter": {
   "hash": "23300995598eec4bcf6bd89cf02d1c3675e8b2616661418dbbf5580aa901878d"
  },
  "kernelspec": {
   "display_name": "Python 3.9.10 64-bit",
   "language": "python",
   "name": "python3"
  },
  "language_info": {
   "codemirror_mode": {
    "name": "ipython",
    "version": 3
   },
   "file_extension": ".py",
   "mimetype": "text/x-python",
   "name": "python",
   "nbconvert_exporter": "python",
   "pygments_lexer": "ipython3",
   "version": "3.9.10"
  },
  "orig_nbformat": 4
 },
 "nbformat": 4,
 "nbformat_minor": 2
}
